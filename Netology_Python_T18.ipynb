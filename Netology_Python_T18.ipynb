{
 "cells": [
  {
   "cell_type": "code",
   "execution_count": 1,
   "metadata": {},
   "outputs": [],
   "source": [
    "import os\n",
    "import pandas as pd\n",
    "from datetime import date\n",
    "\n",
    "name_files_dir = 'names'\n",
    "dir_of_files = os.path.join(os.getcwd(), name_files_dir)"
   ]
  },
  {
   "cell_type": "code",
   "execution_count": 2,
   "metadata": {},
   "outputs": [],
   "source": [
    "def cook_data(dir_of_files):\n",
    "    datas = pd.DataFrame({})\n",
    "    files = os.listdir(dir_of_files)\n",
    "    \n",
    "    for file in files:\n",
    "         if file[-3:] == 'txt':\n",
    "                piece_of_data = pd.read_csv(\n",
    "                os.path.join(dir_of_files, file),\n",
    "                names = ['name', 'sex', 'count', 'year'])\n",
    "                piece_of_data['year'] = int(file[3:7])\n",
    "                datas = pd.concat([datas, piece_of_data])\n",
    "    return datas\n",
    "\n",
    "\n",
    "def count_top3(years):\n",
    "    top_names = pd.DataFrame({})\n",
    "    for year in years:\n",
    "        top_names_in_year = datas.query('year == {}'.format(year)).sort_values(by='count', ascending=False).head(3)\n",
    "        top_names = pd.concat([top_names, top_names_in_year])\n",
    "    \n",
    "    final_top = top_names.sort_values(by='count', ascending=False)\n",
    "\n",
    "    return list(final_top['name'][:3]) \n",
    " \n",
    "\n",
    "def count_dynamics(years):\n",
    "    dynamics = {'F':[], 'M':[]}\n",
    "    for year in years:\n",
    "        dynamics['F'].append(datas.query('year == {} and sex == \"F\"'.format(year)).shape[0])\n",
    "        dynamics['M'].append(datas.query('year == {} and sex == \"M\"'.format(year)).shape[0])\n",
    "        \n",
    "    return dynamics\n",
    "        \n",
    "        "
   ]
  },
  {
   "cell_type": "code",
   "execution_count": 3,
   "metadata": {},
   "outputs": [],
   "source": [
    "datas = cook_data(dir_of_files)"
   ]
  },
  {
   "cell_type": "code",
   "execution_count": 4,
   "metadata": {},
   "outputs": [
    {
     "data": {
      "text/plain": [
       "['John', 'William', 'Mary']"
      ]
     },
     "execution_count": 4,
     "metadata": {},
     "output_type": "execute_result"
    }
   ],
   "source": [
    "count_top3([1880])"
   ]
  },
  {
   "cell_type": "code",
   "execution_count": 5,
   "metadata": {},
   "outputs": [
    {
     "data": {
      "text/plain": [
       "['James', 'Robert', 'Linda']"
      ]
     },
     "execution_count": 5,
     "metadata": {},
     "output_type": "execute_result"
    }
   ],
   "source": [
    "count_top3([1900, 1950, 2000])"
   ]
  },
  {
   "cell_type": "code",
   "execution_count": 6,
   "metadata": {},
   "outputs": [
    {
     "data": {
      "text/plain": [
       "{'F': [2224, 6111, 17653], 'M': [1506, 4191, 12116]}"
      ]
     },
     "execution_count": 6,
     "metadata": {},
     "output_type": "execute_result"
    }
   ],
   "source": [
    "count_dynamics([1900, 1950, 2000])"
   ]
  }
 ],
 "metadata": {
  "kernelspec": {
   "display_name": "Python 3",
   "language": "python",
   "name": "python3"
  },
  "language_info": {
   "codemirror_mode": {
    "name": "ipython",
    "version": 3
   },
   "file_extension": ".py",
   "mimetype": "text/x-python",
   "name": "python",
   "nbconvert_exporter": "python",
   "pygments_lexer": "ipython3",
   "version": "3.6.4"
  }
 },
 "nbformat": 4,
 "nbformat_minor": 2
}
